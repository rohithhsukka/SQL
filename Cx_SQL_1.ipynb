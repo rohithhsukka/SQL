{
  "nbformat": 4,
  "nbformat_minor": 0,
  "metadata": {
    "colab": {
      "provenance": []
    },
    "kernelspec": {
      "name": "python3",
      "display_name": "Python 3"
    },
    "language_info": {
      "name": "python"
    }
  },
  "cells": [
    {
      "cell_type": "markdown",
      "source": [
        "**SQL** - Structured Query Language used to communicate with databases and manipulate data within them. It is like asking the filing clerk to find specific documents based on criteria.\n",
        "\n",
        "**Databases** - Imagine a filing cabinet with folders(tables) holding documents (rows) with information (columns). Database store organized data electronically, like customer records, product info or website analytics."
      ],
      "metadata": {
        "id": "CKoA89h9qGac"
      }
    },
    {
      "cell_type": "markdown",
      "source": [
        "**Executing SQL Queries**\n",
        "  * command line tools - like mysql pr psql for direct interaction\n",
        "  * Database Management System (DBMS) - Software with graphical interface, like MySQL Workbench or PHPMyAdmin\n",
        "  * Using compatible programming Language - Python, SCALA"
      ],
      "metadata": {
        "id": "maZ5Hhh3r43z"
      }
    },
    {
      "cell_type": "markdown",
      "source": [
        "**Relational Database Management System (RDBMS)** - It uses SQL as their primary langauge for interacting with data.\n",
        "  * MySQL -\n",
        "    * Open Source, free to use - Widely adopted for web application and smaller projects\n",
        "    * Ease to use - Simple user friendly interface.\n",
        "    * Features - Supports various storage engine, replication & user management etc.\n",
        "  * Microsoft SQL Server (MSSQL) -\n",
        "    * Commercial - requires licensing from Microsoft\n",
        "    * Performance - Suitable for large enterprise applications\n",
        "    * Features - Robust security, rich set of advanced features, tight integration with microsoft products.\n",
        "    * Drawbacks - Costly for smaller projects, licensing complexity, locked into microsoft ecosystem.\n",
        "  * PostgreSQL\n",
        "    * Open SOurce, free to use, strong community support and active development\n",
        "  * Oracle Database\n",
        "    * Commercial : Expensive licensing Model"
      ],
      "metadata": {
        "id": "1p0tLqaaspoQ"
      }
    },
    {
      "cell_type": "markdown",
      "source": [
        "**How to choose RDBMS**\n",
        "  * Budget\n",
        "  * Project size and complexity\n",
        "  * Technical expertise\n",
        "  * Other software integration"
      ],
      "metadata": {
        "id": "MFwMoIiYuuac"
      }
    },
    {
      "cell_type": "markdown",
      "source": [
        "**Install the following Package**\n",
        "  * https://dev.mysql.com/downloads/windows/installer/"
      ],
      "metadata": {
        "id": "zYocxwKqvQcm"
      }
    },
    {
      "cell_type": "markdown",
      "source": [
        "**Start MySQL Client - SQL Command line tool**\n",
        "  * Windows -> MySQL Commandline Client\n",
        "  * Mac -> start terminal -> /usr/local/mysql/bin/mysql -u root -p"
      ],
      "metadata": {
        "id": "FXFvq5rLjT-N"
      }
    },
    {
      "cell_type": "markdown",
      "source": [
        "**Check existing databases**\n",
        "  * show databases;"
      ],
      "metadata": {
        "id": "T_5nMZGdk1Cf"
      }
    },
    {
      "cell_type": "markdown",
      "source": [
        "**Create a Database**\n",
        "  * create database database_name;"
      ],
      "metadata": {
        "id": "P11sFi4KkhQi"
      }
    },
    {
      "cell_type": "markdown",
      "source": [
        "**Delete a database**\n",
        "  * drop database db_name;"
      ],
      "metadata": {
        "id": "M0nXQT57lUwJ"
      }
    },
    {
      "cell_type": "markdown",
      "source": [
        "**Select a database to be used**\n",
        "  * use db_name;"
      ],
      "metadata": {
        "id": "lEpQnwUmmRrY"
      }
    },
    {
      "cell_type": "markdown",
      "source": [
        "**to check all existing data tables**\n",
        "  * show tables;"
      ],
      "metadata": {
        "id": "CUZs87ZEl48A"
      }
    },
    {
      "cell_type": "markdown",
      "source": [
        "**create a data table**\n",
        "  * create table cx_table1 (id int , name char , email char);"
      ],
      "metadata": {
        "id": "MaMNFQgjnAbV"
      }
    },
    {
      "cell_type": "markdown",
      "source": [
        "**access table structure**\n",
        "  * describe cx_table1;"
      ],
      "metadata": {
        "id": "00H4UTC4nUrn"
      }
    },
    {
      "cell_type": "markdown",
      "source": [
        "**Insert a data row**\n",
        "  * insert into cx_table1 (id,name,email) values(1,\"B\",\"a\");"
      ],
      "metadata": {
        "id": "N8cZMAFiowT3"
      }
    },
    {
      "cell_type": "markdown",
      "source": [
        "**to read a data table**\n",
        "  * select * from cx_table1;"
      ],
      "metadata": {
        "id": "pAcriauSo6kh"
      }
    },
    {
      "cell_type": "markdown",
      "source": [
        "* create table cx_table2 (id int , name char(20) , email char(20));\n",
        "* describe cx_table2;\n",
        "* insert into cx_table2 (id,name,email) values(1,\"Bipul\",\"bipul@abc.com\");"
      ],
      "metadata": {
        "id": "9IgzJjrTpeig"
      }
    },
    {
      "cell_type": "code",
      "execution_count": null,
      "metadata": {
        "id": "-GriO-h0qEVV"
      },
      "outputs": [],
      "source": []
    }
  ]
}