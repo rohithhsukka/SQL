{
  "nbformat": 4,
  "nbformat_minor": 0,
  "metadata": {
    "colab": {
      "provenance": []
    },
    "kernelspec": {
      "name": "python3",
      "display_name": "Python 3"
    },
    "language_info": {
      "name": "python"
    }
  },
  "cells": [
    {
      "cell_type": "markdown",
      "source": [
        "**SQL Data Types**\n",
        "* INT :- Store whole number(e.g 123 , -456)\n",
        "  * TINYINT\n",
        "    * signed or unsigned 8 bit integers\n",
        "    * maximu length - 1 byte\n",
        "  * SMALLINT\n",
        "    * signed or unsigned 16 bit integers\n",
        "    * maximum length - 2 bytes\n",
        "  * MEDIUMINT\n",
        "    * signed or unsigned integers (20-bit on most system)\n",
        "    * maximum length - 3 byte\n",
        "  * INT\n",
        "    * signed or unsigned 32 bit integers\n",
        "    * maximum length - 4 bytes\n",
        "  * BIGINT\n",
        "    * signed or unsigned 64 bit integers\n",
        "    * maximum length - 8 bytes\n",
        "\n",
        "* FLOAT :- Stores decimal numbers (e.g 3.14, -2.76)\n",
        "  * DECIMAL(m,d)\n",
        "    * stores fixed point decimal numbers with m total digits and d decimal places, decimal(5,2) => 485.72\n",
        "  * FLOAT\n",
        "    * stores single-precision floating point numbers(4 bytes)\n",
        "    * Single precision uses 32 bits of memory\n",
        "    * Single precision represents numbers with approximately 7 decimal digits of precision. It means small variations in the actial value may be lost when storing it in this format.\n",
        "  * DOUBLE\n",
        "    * stores double-precision floating point numbers(8 bytes)\n",
        "    * Double precision uses 64 bits of memory\n",
        "    * Double precision represents numbers with approximately 15-16 decimal digits of precision. It provides higher accuracy comapred to single precision.\n",
        "\n",
        "* Characters\n",
        "  * char(n)\n",
        "    * fix length character string upto n characters\n",
        "    * char(8) => h e l l o _ _ _\n",
        "  * varchar(n)\n",
        "    * variable length character string upto n characters\n",
        "    * varchar(20) => h e l l o\n",
        "  * text\n",
        "    * variable length text string, maximum length system dependent\n",
        "    * text stores data including letters, symbols and punctuations\n",
        "  * blob\n",
        "    * Binary large objects (variable length)\n",
        "    * blob - stores binary data, which can be any type represented in series of bytes including images, audios, videos, documents or any other non-textual content\n",
        "\n",
        "* Date and Time Types\n",
        "  * DATE\n",
        "    * date values - Maximum length -> 3 bytes\n",
        "    * format - YYYY-MM-DD\n",
        "  * TIME\n",
        "    * Time values - Maximum length -> 3 bytes\n",
        "  * DATETIME\n",
        "    * Combination of date and time - Maximum length -> 8 bytes\n",
        "    * format - YYYY-MM-DD hh:mm:ss\n",
        "  * TIMESTAMP\n",
        "    * Date and time with automatic time-stamping on update\n",
        "    * Maximum length - 4 bytes.\n",
        "\n",
        "* BOOLEAN Type\n",
        "    * Represents True or False, Maximum length - 1 byte"
      ],
      "metadata": {
        "id": "lC-L26B1r1Ok"
      }
    },
    {
      "cell_type": "markdown",
      "source": [
        "****"
      ],
      "metadata": {
        "id": "GJ5eHBsUFOzX"
      }
    },
    {
      "cell_type": "markdown",
      "source": [
        "* create table students (students_id int, name varchar(40) , email varchar(50), age int);\n",
        "\n",
        "* show tables;\n",
        "\n",
        "* describe students;\n",
        "\n",
        "* insert into students (students_id,name,email,age) values (1,'Pavan','pavan@abc.com',20);\n",
        "\n",
        "* insert into students (students_id,name,email,age) values (2,'Ajay','ajay@abc.com',18);\n",
        "\n",
        "* insert into students (students_id,name,email,age) values (2,'John','john@abc.com',19);\n",
        "\n",
        "* select * from students;"
      ],
      "metadata": {
        "id": "BWlDtNvJE84Z"
      }
    },
    {
      "cell_type": "markdown",
      "source": [
        "****\n",
        "**SQL Integrity Constraints**\n",
        "  * Primary Key\n",
        "    * uniquely identifies each row in a table (e.g. book id)\n",
        "    * Not allows null values\n",
        "  * Foreign Key\n",
        "    * Links a table to another table (e.g. author_id in books links author_id in authors)\n",
        "  * NOT NULL\n",
        "    * Prevents a column from having Null Values (e.g title in books)\n",
        "  * UNIQUE\n",
        "    * Prevents duplicate values in a specific columns\n",
        "    * Allow null values"
      ],
      "metadata": {
        "id": "-O1Lb9caDS5O"
      }
    },
    {
      "cell_type": "markdown",
      "source": [
        "*****\n",
        "* create table new_students (student_id int primary key, name varchar(20) , email varchar(30) unique, age int not null);\n",
        "\n",
        "* describe new_students;\n",
        "\n",
        "* insert into new_students (student_id,name,email,age) values (1,'Joy','joy@abc.com',16);\n",
        "\n",
        "* insert into new_students (student_id,name,email,age) values (1,'John','john@abc.com',17); => error as student_id can't be same being a primary key\n",
        "\n",
        "* insert into new_students (student_id,name,email,age) values (2,'John','john@abc.com',17);\n",
        "\n",
        "* insert into new_students (student_id,name,email,age) values (3,'Ajay','john@abc.com',19); => error as email id can't be same for two entries but can be blank\n",
        "\n",
        "* insert into new_students (student_id,name,age) values (3,'Ajay',19);\n",
        "\n",
        "* insert into new_students (name,age) values ('Ajay',19); => error as student_id can't be blank and same being a primary key\n",
        "\n",
        "* insert into new_students (student_id,name) values (3,'Ajay'); => error as age value is missing and we used not null constraint for age column\n",
        "\n",
        "* insert into new_students (student_id,name,age) values (4,'abhay',19);\n",
        "\n",
        "* select * from new_students;"
      ],
      "metadata": {
        "id": "3DmfCg6_FSu8"
      }
    },
    {
      "cell_type": "code",
      "execution_count": null,
      "metadata": {
        "id": "k1-K3Kqjrdas"
      },
      "outputs": [],
      "source": []
    }
  ]
}